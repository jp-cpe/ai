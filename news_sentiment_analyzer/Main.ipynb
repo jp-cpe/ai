import pandas as pd

df = pd.read_csv('articles.csv')

from transformers import pipeline
from transformers import DistilBertTokenizer, DistilBertForSequenceClassification

tokenizer = DistilBertTokenizer.from_pretrained('distilbert/distilbert-base-uncased-finetuned-sst-2-english')
model = DistilBertForSequenceClassification.from_pretrained('distilbert/distilbert-base-uncased-finetuned-sst-2-english')

nlp = pipeline('sentiment-analysis', model=model, tokenizer=tokenizer)

texts = list(df.Title.values)

results = nlp(texts)

for text, result in zip(texts, results):
    print('Text:', text)
    print('Result:', result)

df['sentiment'] = [r['label'] for r in results]
df
