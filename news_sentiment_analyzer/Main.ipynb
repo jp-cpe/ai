{
 "cells": [
  {
   "cell_type": "code",
   "execution_count": null,
   "metadata": {},
   "outputs": [],
   "source": [
    "import pandas as pd\n",
    "\n",
    "df = pd.read_csv('articles.csv')\n",
    "\n",
    "from transformers import pipeline\n",
    "from transformers import DistilBertTokenizer, DistilBertForSequenceClassification\n",
    "\n",
    "tokenizer = DistilBertTokenizer.from_pretrained('distilbert/distilbert-base-uncased-finetuned-sst-2-english')\n",
    "model = DistilBertForSequenceClassification.from_pretrained('distilbert/distilbert-base-uncased-finetuned-sst-2-english')\n",
    "\n",
    "nlp = pipeline('sentiment-analysis', model=model, tokenizer=tokenizer)\n",
    "\n",
    "texts = list(df.Title.values)\n",
    "\n",
    "results = nlp(texts)\n",
    "\n",
    "for text, result in zip(texts, results):\n",
    "    print('Text:', text)\n",
    "    print('Result:', result)\n",
    "\n",
    "df['sentiment'] = [r['label'] for r in results]\n",
    "df"
   ]
  }
 ],
 "metadata": {
  "language_info": {
   "name": "python"
  }
 },
 "nbformat": 4,
 "nbformat_minor": 2
}
